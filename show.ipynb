{
 "cells": [
  {
   "cell_type": "markdown",
   "source": [
    "# 数字图像处理Demo演示"
   ],
   "metadata": {
    "collapsed": false
   }
  },
  {
   "cell_type": "code",
   "execution_count": 1,
   "outputs": [],
   "source": [
    "import os\n",
    "\n",
    "from modules.layout import Layout\n",
    "from modules.brightness import Brightness\n",
    "from modules.saturation import Saturation\n",
    "from modules.utils import Utils\n",
    "from SCUNet.scunet import Denoising\n",
    "from Neural_IMage_Assessment.NIMA import NIMA_predict\n",
    "from portraitNet.pred_img import PortraitSeg\n",
    "import cv2\n",
    "import time\n",
    "import matplotlib.pyplot as plt\n",
    "%matplotlib inline"
   ],
   "metadata": {
    "collapsed": false,
    "ExecuteTime": {
     "start_time": "2023-05-18T16:21:44.263211Z",
     "end_time": "2023-05-18T16:21:45.101350Z"
    }
   }
  },
  {
   "cell_type": "code",
   "execution_count": 2,
   "outputs": [],
   "source": [
    "def print_lines(img, points):\n",
    "    img = img.copy()\n",
    "    for pair in Utils.POSE_PAIRS:\n",
    "        part_from = pair[0]\n",
    "        part_to = pair[1]\n",
    "        assert (part_from in Utils.BODY_PARTS)\n",
    "        assert (part_to in Utils.BODY_PARTS)\n",
    "\n",
    "        id_from = Utils.BODY_PARTS[part_from]\n",
    "        id_to = Utils.BODY_PARTS[part_to]\n",
    "\n",
    "        if points[id_from] and points[id_to]:\n",
    "            cv2.line(img, points[id_from], points[id_to], (0, 255, 0), 3)\n",
    "            cv2.ellipse(img, points[id_from], (3, 3), 0, 0, 360, (0, 0, 255), cv2.FILLED)\n",
    "            cv2.ellipse(img, points[id_to], (3, 3), 0, 0, 360, (0, 0, 255), cv2.FILLED)\n",
    "\n",
    "    return img"
   ],
   "metadata": {
    "collapsed": false,
    "ExecuteTime": {
     "start_time": "2023-05-18T16:22:47.045957Z",
     "end_time": "2023-05-18T16:22:47.051339Z"
    }
   }
  },
  {
   "cell_type": "code",
   "execution_count": null,
   "outputs": [],
   "source": [
    "rows, cols = 2, 3\n",
    "\n",
    "imgs = sorted(os.listdir('test_imgs/body/'))[:rows * cols]\n",
    "plt.figure(figsize=(15,9))\n",
    "for i in range(rows):\n",
    "    for j in range(cols):\n",
    "        plt.subplot(rows, cols, i * cols + j + 1)\n",
    "        image = cv2.imread('test_imgs/body/' + imgs[i * cols + j])\n",
    "        image = cv2.cvtColor(image, cv2.COLOR_BGR2RGB)\n",
    "        plt.imshow(image)\n",
    "        plt.xticks([])\n",
    "        plt.yticks([])\n",
    "plt.show()"
   ],
   "metadata": {
    "collapsed": false,
    "ExecuteTime": {
     "start_time": "2023-05-18T16:17:48.824261Z",
     "end_time": "2023-05-18T16:17:49.493433Z"
    },
    "pycharm": {
     "is_executing": true
    }
   }
  },
  {
   "cell_type": "code",
   "execution_count": null,
   "outputs": [],
   "source": [
    "plt.clf()\n",
    "plt.figure(figsize=(15,9))\n",
    "for i in range(rows):\n",
    "    for j in range(cols):\n",
    "        plt.subplot(rows, cols, i * cols + j + 1)\n",
    "        image = cv2.imread('test_imgs/body/' + imgs[i * cols + j])\n",
    "        points = Utils.get_pose_point(image)\n",
    "        image = print_lines(image, points)\n",
    "        image = cv2.cvtColor(image, cv2.COLOR_BGR2RGB)\n",
    "        plt.imshow(image)\n",
    "        plt.xticks([])\n",
    "        plt.yticks([])\n",
    "plt.show()"
   ],
   "metadata": {
    "collapsed": false,
    "ExecuteTime": {
     "start_time": "2023-05-18T16:15:03.799646Z",
     "end_time": "2023-05-18T16:15:06.456768Z"
    },
    "pycharm": {
     "is_executing": true
    }
   }
  },
  {
   "cell_type": "code",
   "execution_count": null,
   "outputs": [],
   "source": [
    "layout = Layout('./modules/graph_opt.pb')\n",
    "\n",
    "for i in range(rows):\n",
    "    for j in range(cols):\n",
    "        print('-'*15+'image {}'.format(i * cols + j)+'-'*15)\n",
    "        image = cv2.imread('test_imgs/body/' + imgs[i * cols + j])\n",
    "        layout_score = layout.cal_score(image)  # 布局得分\n",
    "        print('layout_score: ', layout_score)"
   ],
   "metadata": {
    "collapsed": false,
    "ExecuteTime": {
     "start_time": "2023-05-18T16:15:03.799664Z",
     "end_time": "2023-05-18T16:15:06.766846Z"
    },
    "pycharm": {
     "is_executing": true
    }
   }
  },
  {
   "cell_type": "code",
   "execution_count": null,
   "outputs": [],
   "source": [
    "rows, cols = 1, 5\n",
    "brightness = Brightness()\n",
    "\n",
    "imgs = sorted(os.listdir('test_imgs/brightness/'))[:rows * cols]\n",
    "plt.clf()\n",
    "plt.figure(figsize=(15,6))\n",
    "for i in range(rows):\n",
    "    for j in range(cols):\n",
    "        print('-'*15+'image {}'.format(i * cols + j)+'-'*15)\n",
    "        plt.subplot(rows, cols, i * cols + j + 1)\n",
    "        image = cv2.imread('test_imgs/brightness/' + imgs[i * cols + j])\n",
    "        brightness_score = brightness.cal_score(image)  # 亮度得分\n",
    "        image = cv2.cvtColor(image, cv2.COLOR_BGR2RGB)\n",
    "        plt.imshow(image)\n",
    "        plt.xlabel('brightness_score: {:.2f}'.format(brightness_score), fontdict={'family' : 'Times New Roman', 'size'   : 10})\n",
    "        plt.xticks([])\n",
    "        plt.yticks([])\n",
    "plt.show()"
   ],
   "metadata": {
    "collapsed": false,
    "ExecuteTime": {
     "start_time": "2023-05-18T16:15:03.799681Z",
     "end_time": "2023-05-18T16:15:08.107794Z"
    },
    "pycharm": {
     "is_executing": true
    }
   }
  },
  {
   "cell_type": "code",
   "execution_count": null,
   "outputs": [],
   "source": [
    "image = cv2.imread('test_imgs/brightness/img0.png')\n",
    "plt.clf()\n",
    "plt.figure(figsize=(8,6))\n",
    "\n",
    "plt.subplot(121)\n",
    "brightness_score = brightness.cal_score(image)  # 亮度得分\n",
    "image_rgb = cv2.cvtColor(image, cv2.COLOR_BGR2RGB)\n",
    "plt.imshow(image_rgb)\n",
    "plt.xticks([])\n",
    "plt.yticks([])\n",
    "plt.xlabel('origin score: {:.2f}'.format(brightness_score), fontdict={'family' : 'Times New Roman', 'size'   : 10})\n",
    "\n",
    "plt.subplot(122)\n",
    "adjust = brightness.opt_img(image)\n",
    "adjust_rgb = cv2.cvtColor(adjust, cv2.COLOR_BGR2RGB)\n",
    "brightness_score = brightness.cal_score(adjust)  # 亮度得分\n",
    "plt.imshow(adjust_rgb)\n",
    "plt.xlabel('adjusted score: {:.2f}'.format(brightness_score), fontdict={'family' : 'Times New Roman', 'size'   : 10})\n",
    "\n",
    "plt.xticks([])\n",
    "plt.yticks([])\n",
    "plt.show()"
   ],
   "metadata": {
    "collapsed": false,
    "ExecuteTime": {
     "start_time": "2023-05-18T16:15:03.799698Z",
     "end_time": "2023-05-18T16:15:08.612621Z"
    },
    "pycharm": {
     "is_executing": true
    }
   }
  },
  {
   "cell_type": "code",
   "execution_count": null,
   "outputs": [],
   "source": [
    "rows, cols = 1, 5\n",
    "\n",
    "saturation = Saturation()\n",
    "imgs = sorted(os.listdir('test_imgs/brightness/'))[:rows * cols]\n",
    "plt.clf()\n",
    "plt.figure(figsize=(15,6))\n",
    "for i in range(rows):\n",
    "    for j in range(cols):\n",
    "        print('-'*15+'image {}'.format(i * cols + j)+'-'*15)\n",
    "        plt.subplot(rows, cols, i * cols + j + 1)\n",
    "        image = cv2.imread('test_imgs/brightness/' + imgs[i * cols + j])\n",
    "        saturation_score = saturation.cal_score(image)  # 对比度得分\n",
    "        image = cv2.cvtColor(image, cv2.COLOR_BGR2RGB)\n",
    "        plt.imshow(image)\n",
    "        plt.xlabel('saturation_score: {:.2f}'.format(saturation_score), fontdict={'family' : 'Times New Roman', 'size'   : 10})\n",
    "        plt.xticks([])\n",
    "        plt.yticks([])\n",
    "plt.show()"
   ],
   "metadata": {
    "collapsed": false,
    "ExecuteTime": {
     "start_time": "2023-05-18T16:15:03.799714Z",
     "end_time": "2023-05-18T16:15:09.933199Z"
    },
    "pycharm": {
     "is_executing": true
    }
   }
  }
 ],
 "metadata": {
  "kernelspec": {
   "display_name": "Python 3",
   "language": "python",
   "name": "python3"
  },
  "language_info": {
   "codemirror_mode": {
    "name": "ipython",
    "version": 2
   },
   "file_extension": ".py",
   "mimetype": "text/x-python",
   "name": "python",
   "nbconvert_exporter": "python",
   "pygments_lexer": "ipython2",
   "version": "2.7.6"
  }
 },
 "nbformat": 4,
 "nbformat_minor": 0
}
